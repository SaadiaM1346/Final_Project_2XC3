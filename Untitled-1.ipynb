{
 "cells": [
  {
   "cell_type": "code",
   "execution_count": null,
   "metadata": {},
   "outputs": [],
   "source": [
    "function Dijkstra(Graph, source):\n",
    "for each vertex v in Graph.Vertices:\n",
    "dist [v] - INFINITY\n",
    "prev [v] - UNDEFINED\n",
    "add v to Q\n",
    "dist [source] + 0\n",
    "while l is not empty:\n",
    "u + vertex in Q with min dist [ul\n",
    "remove u from Q\n",
    "for each neighbor v of u still in 0:\n",
    "alt + distlu] + Graph.Edges (u, v)\n",
    "if alt < dist [v]:\n",
    "dist[v] + alt\n",
    "prev[v] + u\n",
    "return distll, prevl]"
   ]
  },
  {
   "cell_type": "code",
   "execution_count": null,
   "metadata": {},
   "outputs": [],
   "source": []
  }
 ],
 "metadata": {
  "kernelspec": {
   "display_name": "Python 3",
   "language": "python",
   "name": "python3"
  },
  "language_info": {
   "name": "python",
   "version": "3.13.1"
  }
 },
 "nbformat": 4,
 "nbformat_minor": 2
}
