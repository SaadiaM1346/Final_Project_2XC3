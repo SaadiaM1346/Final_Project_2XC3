{
 "cells": [
  {
   "cell_type": "code",
   "execution_count": null,
   "metadata": {},
   "outputs": [],
   "source": [
    "function Dijkstra(Graph, source):\n",
    "for each vertex v in Graph.Vertices:\n",
    "dist [v] - INFINITY\n",
    "prev [v] - UNDEFINED\n",
    "add v to Q\n",
    "dist [source] + 0\n",
    "while l is not empty:\n",
    "u + vertex in Q with min dist [ul\n",
    "remove u from Q\n",
    "for each neighbor v of u still in 0:\n",
    "alt + distlu] + Graph.Edges (u, v)\n",
    "if alt < dist [v]:\n",
    "dist[v] + alt\n",
    "prev[v] + u\n",
    "return distll, prevl]"
   ]
  },
  {
   "cell_type": "code",
   "execution_count": null,
   "metadata": {},
   "outputs": [],
   "source": []
  },
  {
   "cell_type": "code",
   "execution_count": null,
   "metadata": {},
   "outputs": [],
   "source": []
  }
 ],
 "metadata": {
  "language_info": {
   "name": "python"
  }
 },
 "nbformat": 4,
 "nbformat_minor": 2
}
